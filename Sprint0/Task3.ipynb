{
 "cells": [
  {
   "cell_type": "markdown",
   "metadata": {},
   "source": [
    "<h1 style=\"color:DodgerBlue\">Индивидальный проект</h1>"
   ]
  },
  {
   "cell_type": "markdown",
   "metadata": {},
   "source": [
    "<h2 style=\"color:DodgerBlue\">Название проекта:</h2>\n",
    "\n",
    "----\n",
    "\n",
    "### Вариант задания  №18\n"
   ]
  },
  {
   "cell_type": "markdown",
   "metadata": {},
   "source": [
    "<h2 style=\"color:DodgerBlue\">Описание проекта:</h2>\n",
    "\n",
    "----\n",
    "\n",
    "Создать базовый класс Review в C#, который будет представлять отзывы о\n",
    "продуктах или услугах. На основе этого класса разработать 2-3 производных класса,\n",
    "демонстрирующих принципы наследования и полиморфизма. В каждом из классов\n",
    "должны быть реализованы новые атрибуты и методы, а также переопределены\n",
    "некоторые методы базового класса для демонстрации полиморфизма.\n",
    "\n",
    "Требования к базовому классу Review:\n",
    "\n",
    "• Атрибуты: ID отзыва (ReviewId), Текст отзыва (Text), Рейтинг (Rating).\n",
    "\n",
    "• Методы:\n",
    "\n",
    "        • DisplayReview(): метод для отображения отзыва.\n",
    "\n",
    "        • RateProduct(): метод для присвоения рейтинга продукту.\n",
    "\n",
    "        • GetReviewDetails(): метод для получения деталей отзыва.\n",
    "\n",
    "Требования к производным классам:\n",
    "1. ОтзывОбслуживания (ServiceReview): Должен содержать дополнительные\n",
    "атрибуты, такие как Дата посещения (VisitDate).\n",
    "Метод DisplayReview() должен быть переопределен для включения даты\n",
    "посещения в отображение отзыва.\n",
    "\n",
    "2. ОтзывТовара (ProductReview): Должен содержать дополнительные атрибуты,\n",
    "такие как Идентификатор продукта (ProductId). Метод RateProduct() должен\n",
    "быть переопределен для связывания рейтинга с конкретным продуктом.\n",
    "\n",
    "3. ОтзывУслуги (ServiceReview) (если требуется третий класс): Должен\n",
    "содержать дополнительные атрибуты, такие как Время начала услуги\n",
    "(StartTime). Метод GetReviewDetails() должен быть переопределен для\n",
    "отображения времени начала услуги вместе с другими деталями отзыва.\n",
    "\n"
   ]
  },
  {
   "cell_type": "markdown",
   "metadata": {},
   "source": [
    "<h2 style=\"color:DodgerBlue\">Реализация:</h2>\n",
    "\n",
    "----"
   ]
  },
  {
   "cell_type": "code",
   "execution_count": 9,
   "metadata": {
    "dotnet_interactive": {
     "language": "csharp"
    },
    "polyglot_notebook": {
     "kernelName": "csharp"
    }
   },
   "outputs": [],
   "source": [
    "public abstract class Review\n",
    "{\n",
    "    public int ReviewId {get; set;} // ID отзыва \n",
    "    public string Text {get; set;}  // Текст отзыва\n",
    "    public double Rating {get; set;}  //  Рейтинг\n",
    "\n",
    "    public Review(int _ReviewId, string _Text, double _Rating)\n",
    "    {\n",
    "        ReviewId = _ReviewId;\n",
    "        Text = _Text;\n",
    "        Rating = _Rating;\n",
    "    }\n",
    "\n",
    "    public virtual string DisplayReview() // метод для отображения отзыва\n",
    "    {\n",
    "        return $\"ID отзыва: {ReviewId}, Текст отзыва: {Text}\";\n",
    "    }\n",
    "\n",
    "    public virtual string RateProduct() //метод для присвоения рейтинга продукту\n",
    "    {\n",
    "        return $\"присвоен рейтинг {Rating} на основании отзыва с ID {ReviewId}.\";\n",
    "    }\n",
    "\n",
    "    public virtual string GetReviewDetails()  //метод для получения деталей отзыва.\n",
    "    {\n",
    "        return ($\"отзыв {Text}, рейтинг {Rating}.\");\n",
    "    }\n",
    "}\n",
    "\n",
    "public class ServiceCare : Review //Отзыв Обслуживания\n",
    "{\n",
    "    public string VisitDate { get; set; } // дата посещения\n",
    "\n",
    "    public ServiceCare(int _ReviewId, string _Text, double _Rating, string _VisitDate)\n",
    "        : base(_ReviewId, _Text, _Rating)\n",
    "    {\n",
    "        VisitDate = _VisitDate;\n",
    "    }\n",
    "\n",
    "    public override string DisplayReview()  //переопределен для включения даты посещения в отображение отзыва\n",
    "    {\n",
    "        return $\"{base.DisplayReview()} \\nКлиент, оставивший отзыв, посетил услугу {VisitDate}.\";\n",
    "    }\n",
    "}\n",
    "\n",
    "public class ProductReview : Review //Отзыв Товара \n",
    "{\n",
    "    public int ProductId { get; set; } // идентификатор продукта\n",
    "\n",
    "    public ProductReview(int _ReviewId, string _Text, double _Rating, int _ProductId)\n",
    "        : base(_ReviewId, _Text, _Rating)\n",
    "    {\n",
    "        ProductId = _ProductId;\n",
    "    }\n",
    "\n",
    "    public override string RateProduct() // переопределен для связывания рейтинга с конкретным продуктом\n",
    "    {\n",
    "        return ($\"Продукту с ID {ProductId}  {base.RateProduct()}\");\n",
    "    }\n",
    "}\n",
    "\n",
    "public class ServiceReview : Review// Отзыв Услуги\n",
    "{\n",
    "    public string StartTime { get; set; }\n",
    "\n",
    "    public ServiceReview(int _ReviewId, string _Text, double _Rating, string _StartTime)\n",
    "        : base(_ReviewId, _Text, _Rating)\n",
    "    {\n",
    "        StartTime = _StartTime;\n",
    "    }\n",
    "\n",
    "    public override string GetReviewDetails() //переопределен для отображения времени начала услуги вместе с другими деталями отзыва.\n",
    "    {\n",
    "        return $\"Услуга, предоставленная в {StartTime}, получила {base.GetReviewDetails()}\";\n",
    "    }\n",
    "}\n",
    "\n",
    "Review serviceCare = new ServiceCare(1, \"Очень приятный персонал\", 5.0, \"09 сентября\");\n",
    "Review productReview = new ProductReview(2, \"Товар быстро сломался\", 3.2, 3507);\n",
    "Review serviceReview = new ServiceReview(3, \"Услуга оказана на хорошем уровне\", 4.5, \"15:30\");\n",
    "\n",
    "Console.WriteLine(serviceCare.DisplayReview());\n",
    "Console.WriteLine(serviceCare.RateProduct());\n",
    "Console.WriteLine(serviceCare.GetReviewDetails());\n",
    "\n",
    "Console.WriteLine();\n",
    "\n",
    "Console.WriteLine(productReview.DisplayReview());\n",
    "Console.WriteLine(productReview.RateProduct());\n",
    "Console.WriteLine(productReview.GetReviewDetails());\n",
    "\n",
    "Console.WriteLine();\n",
    "\n",
    "Console.WriteLine(serviceReview.DisplayReview());\n",
    "Console.WriteLine(serviceReview.RateProduct());\n",
    "Console.WriteLine(serviceReview.GetReviewDetails());"
   ]
  }
 ],
 "metadata": {
  "kernelspec": {
   "display_name": ".NET (C#)",
   "language": "C#",
   "name": ".net-csharp"
  },
  "polyglot_notebook": {
   "kernelInfo": {
    "defaultKernelName": "csharp",
    "items": [
     {
      "aliases": [],
      "languageName": "csharp",
      "name": "csharp"
     }
    ]
   }
  }
 },
 "nbformat": 4,
 "nbformat_minor": 2
}
